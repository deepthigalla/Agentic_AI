{
 "cells": [
  {
   "cell_type": "code",
   "execution_count": null,
   "id": "e04b5072",
   "metadata": {},
   "outputs": [],
   "source": [
    "import torch\n",
    "from transformers import pipeline\n",
    "from langchain_community.llms import HuggingFacePipeline\n",
    "from langgraph.graph import StateGraph, END\n",
    "from langchain_core.runnables import RunnableLambda\n",
    "\n",
    "# ✅ Set device manually\n",
    "device = 0 if torch.cuda.is_available() else -1\n",
    "\n",
    "# ✅ Workaround for torch internal dtype bug\n",
    "pipe = pipeline(\"text2text-generation\", model=\"google/flan-t5-large\", device=device, max_length=100)\n",
    "\n",
    "\n",
    "llm = HuggingFacePipeline(pipeline=pipe)\n",
    "\n",
    "# ✅ LangGraph node\n",
    "def question_node(state: dict) -> dict:\n",
    "    question = state[\"input\"]\n",
    "    answer = llm.invoke(question)\n",
    "    return {\"output\": answer}\n",
    "\n",
    "# ✅ Build LangGraph\n",
    "builder = StateGraph(dict)\n",
    "builder.add_node(\"question_node\", RunnableLambda(question_node))\n",
    "builder.set_entry_point(\"question_node\")\n",
    "builder.add_edge(\"question_node\", END)\n",
    "\n",
    "graph = builder.compile()\n",
    "\n",
    "# ✅ Run\n",
    "response = graph.invoke({\"input\": \"what is capital of india ?\"})\n",
    "print(\"Answer:\", response[\"output\"])\n"
   ]
  }
 ],
 "metadata": {
  "kernelspec": {
   "display_name": "Python 3",
   "language": "python",
   "name": "python3"
  },
  "language_info": {
   "name": "python",
   "version": "3.13.5"
  }
 },
 "nbformat": 4,
 "nbformat_minor": 5
}

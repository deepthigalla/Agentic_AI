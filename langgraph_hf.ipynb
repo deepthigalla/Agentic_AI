{
 "cells": [
  {
   "cell_type": "code",
   "execution_count": 2,
   "id": "e04b5072",
   "metadata": {},
   "outputs": [
    {
     "name": "stderr",
     "output_type": "stream",
     "text": [
      "Device set to use cpu\n"
     ]
    },
    {
     "name": "stdout",
     "output_type": "stream",
     "text": [
      "Answer: narendra modi\n"
     ]
    }
   ],
   "source": [
    "import torch\n",
    "from transformers import pipeline\n",
    "from langchain_community.llms import HuggingFacePipeline\n",
    "from langgraph.graph import StateGraph, END\n",
    "from langchain_core.runnables import RunnableLambda\n",
    "\n",
    "# ✅ Set device manually\n",
    "device = 0 if torch.cuda.is_available() else -1\n",
    "\n",
    "# ✅ Workaround for torch internal dtype bug\n",
    "pipe = pipeline(\"text2text-generation\", model=\"google/flan-t5-large\", device=device, max_length=100)\n",
    "\n",
    "\n",
    "llm = HuggingFacePipeline(pipeline=pipe)\n",
    "\n",
    "# ✅ LangGraph node\n",
    "def question_node(state: dict) -> dict:\n",
    "    question = state[\"input\"]\n",
    "    answer = llm.invoke(question)\n",
    "    return {\"output\": answer}\n",
    "\n",
    "# ✅ Build LangGraph\n",
    "builder = StateGraph(dict)\n",
    "builder.add_node(\"question_node\", RunnableLambda(question_node))\n",
    "builder.set_entry_point(\"question_node\")\n",
    "builder.add_edge(\"question_node\", END)\n",
    "\n",
    "graph = builder.compile()\n",
    "\n",
    "# ✅ Run\n",
    "response = graph.invoke({\"input\": \"Who is the current Prime Minister of India?\"})\n",
    "print(\"Answer:\", response[\"output\"])\n"
   ]
  }
 ],
 "metadata": {
  "kernelspec": {
   "display_name": "Python 3",
   "language": "python",
   "name": "python3"
  },
  "language_info": {
   "codemirror_mode": {
    "name": "ipython",
    "version": 3
   },
   "file_extension": ".py",
   "mimetype": "text/x-python",
   "name": "python",
   "nbconvert_exporter": "python",
   "pygments_lexer": "ipython3",
   "version": "3.13.5"
  }
 },
 "nbformat": 4,
 "nbformat_minor": 5
}

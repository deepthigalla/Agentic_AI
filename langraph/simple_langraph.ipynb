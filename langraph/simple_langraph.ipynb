{
 "cells": [
  {
   "cell_type": "code",
   "execution_count": null,
   "id": "f059357f",
   "metadata": {},
   "outputs": [],
   "source": [
    "# simple_sports_langgraph.py\n",
    "\n",
    "from langgraph.graph import StateGraph, END"
   ]
  },
  {
   "cell_type": "code",
   "execution_count": null,
   "id": "1dab72bc",
   "metadata": {},
   "outputs": [],
   "source": [
    "# Step 1: Define the functions (nodes)\n",
    "def greet(state):\n",
    "    print(\"Hello! This is a simple LangGraph example.\")\n",
    "    return {\"message\": \"greeted\"}"
   ]
  },
  {
   "cell_type": "code",
   "execution_count": null,
   "id": "07dd959b",
   "metadata": {},
   "outputs": [],
   "source": [
    "def ask_question(state):\n",
    "    print(\"Do you like Python? (simulated answer: yes)\")\n",
    "    return {\"answer\": \"yes\"}"
   ]
  },
  {
   "cell_type": "code",
   "execution_count": null,
   "id": "57684cdf",
   "metadata": {},
   "outputs": [],
   "source": [
    "def show_result(state):\n",
    "    if state.get(\"answer\") == \"yes\":\n",
    "        print(\"✅ Awesome! Python is great. 🐍\")\n",
    "    else:\n",
    "        print(\"😅 That's okay! Everyone has their preferences.\")\n",
    "    return {}"
   ]
  },
  {
   "cell_type": "code",
   "execution_count": null,
   "id": "cd8c719f",
   "metadata": {},
   "outputs": [],
   "source": [
    "\n",
    "# ✅ Step 2: Pass state_schema to StateGraph\n",
    "builder = StateGraph(dict)  # <-- Pass dict as the state schema\n",
    "\n",
    "builder.add_node(\"greet\", greet)\n",
    "builder.add_node(\"ask\", ask_question)\n",
    "builder.add_node(\"result\", show_result)\n",
    "\n",
    "builder.set_entry_point(\"greet\")\n",
    "builder.add_edge(\"greet\", \"ask\")\n",
    "builder.add_edge(\"ask\", \"result\")\n",
    "builder.add_edge(\"result\", END)"
   ]
  },
  {
   "cell_type": "code",
   "execution_count": null,
   "id": "3a1c69ae",
   "metadata": {},
   "outputs": [],
   "source": [
    "# Step 3: Compile and run\n",
    "graph = builder.compile()"
   ]
  },
  {
   "cell_type": "code",
   "execution_count": null,
   "id": "ee146c2c",
   "metadata": {},
   "outputs": [],
   "source": [
    "graph.invoke({})"
   ]
  },
  {
   "cell_type": "markdown",
   "id": "d8396e47",
   "metadata": {},
   "source": [
    "Another Example of simple Langraph :"
   ]
  },
  {
   "cell_type": "code",
   "execution_count": null,
   "id": "c46a89f9",
   "metadata": {},
   "outputs": [],
   "source": [
    "from langgraph.graph import StateGraph, END\n",
    "from langchain_core.runnables import RunnableLambda\n",
    "from IPython.display import Image, display"
   ]
  },
  {
   "cell_type": "code",
   "execution_count": null,
   "id": "31d501a2",
   "metadata": {},
   "outputs": [],
   "source": [
    "# Step 1: Define a simple state class (just storing user input)\n",
    "class ChatState:\n",
    "    def __init__(self, message=None):\n",
    "        self.message = message"
   ]
  },
  {
   "cell_type": "code",
   "execution_count": null,
   "id": "599692d3",
   "metadata": {},
   "outputs": [],
   "source": [
    "# Step 2: Define node functions\n",
    "def greet(state: dict) -> dict:\n",
    "    print(\"Bot: Hello! What's your name?\")\n",
    "    name = input(\"You: \")\n",
    "    return ChatState(message=name)"
   ]
  },
  {
   "cell_type": "code",
   "execution_count": null,
   "id": "765af64d",
   "metadata": {},
   "outputs": [],
   "source": [
    "def ask_question(state: dict) -> dict:\n",
    "    print(f\"Bot: Nice to meet you, {state.message}! How can I help you today?\")\n",
    "    _ = input(\"You: \")  # We ignore the answer for simplicity\n",
    "    return state"
   ]
  },
  {
   "cell_type": "code",
   "execution_count": null,
   "id": "2a3f3be3",
   "metadata": {},
   "outputs": [],
   "source": [
    "\n",
    "# Step 3: Build the graph\n",
    "builder = StateGraph(dict)\n",
    "\n",
    "builder.add_node(\"greet\", RunnableLambda(greet))\n",
    "builder.add_node(\"ask_question\", RunnableLambda(ask_question))\n",
    "\n",
    "builder.set_entry_point(\"greet\")\n",
    "builder.add_edge(\"greet\", \"ask_question\")\n",
    "builder.add_edge(\"ask_question\", END)\n",
    "\n",
    "graph = builder.compile()"
   ]
  },
  {
   "cell_type": "code",
   "execution_count": null,
   "id": "9a86d003",
   "metadata": {},
   "outputs": [],
   "source": [
    "## View\n",
    "display(Image(graph.get_graph().draw_mermaid_png()))"
   ]
  },
  {
   "cell_type": "code",
   "execution_count": null,
   "id": "bcaf9459",
   "metadata": {},
   "outputs": [],
   "source": [
    "# Step 4: Run the graph\n",
    "final_state = graph.invoke({})"
   ]
  }
 ],
 "metadata": {
  "kernelspec": {
   "display_name": "Python 3",
   "language": "python",
   "name": "python3"
  },
  "language_info": {
   "codemirror_mode": {
    "name": "ipython",
    "version": 3
   },
   "file_extension": ".py",
   "mimetype": "text/x-python",
   "name": "python",
   "nbconvert_exporter": "python",
   "pygments_lexer": "ipython3",
   "version": "3.13.5"
  }
 },
 "nbformat": 4,
 "nbformat_minor": 5
}

{
 "cells": [
  {
   "cell_type": "code",
   "execution_count": null,
   "id": "fef1fe4b",
   "metadata": {},
   "outputs": [],
   "source": [
    "from together import Together\n",
    "import os\n",
    "from dotenv import load_dotenv\n",
    "import together\n",
    "\n",
    "load_dotenv()\n",
    "\n",
    "api_key = os.getenv(\"TOGETHER_API_KEY\")\n",
    "\n",
    "# Initialize the InferenceClient with together as the provider\n",
    "\n",
    "client = together.Together(api_key=api_key)\n",
    "\n",
    "response = client.chat.completions.create(\n",
    "    model=\"meta-llama/Llama-3-70b-chat-hf\",  # Use model name from together.Models.list()\n",
    "    messages=[\n",
    "        {\"role\": \"user\", \"content\": \"Explain what happens in a typical slapstick comedy video.\"}\n",
    "    ],\n",
    "    max_tokens=300,\n",
    "    temperature=0.7,\n",
    ")\n",
    "\n",
    "# ✅ Use dot notation\n",
    "print(response.choices[0].message.content)\n",
    "\n",
    "\n",
    "\n",
    "\n"
   ]
  },
  {
   "cell_type": "code",
   "execution_count": null,
   "id": "60a30927",
   "metadata": {},
   "outputs": [],
   "source": [
    "import os\n",
    "import webbrowser\n",
    "from dotenv import load_dotenv\n",
    "import together\n",
    "\n",
    "load_dotenv()\n",
    "api_key = os.getenv(\"TOGETHER_API_KEY\")\n",
    "client = together.Together(api_key=api_key)\n",
    "\n",
    "# Step 1: Ask the model to describe a comedy video\n",
    "response = client.chat.completions.create(\n",
    "    model=\"meta-llama/Llama-3-70b-chat-hf\",\n",
    "    messages=[{\n",
    "        \"role\": \"user\",\n",
    "        \"content\": \"Explain what happens in a typical slapstick comedy video.\"\n",
    "    }],\n",
    "    max_tokens=300,\n",
    "    temperature=0.7,\n",
    ")\n",
    "\n",
    "print(\"🤖 AI Response:\\n\")\n",
    "print(response.choices[0].message.content)\n",
    "\n",
    "# Step 2: Play sample comedy video in browser\n",
    "video_url = \"http://commondatastorage.googleapis.com/gtv-videos-bucket/sample/ForBiggerFun.mp4\"\n",
    "print(\"\\n▶️ Opening video in browser...\")\n",
    "webbrowser.open(video_url)\n"
   ]
  }
 ],
 "metadata": {
  "kernelspec": {
   "display_name": "Python 3",
   "language": "python",
   "name": "python3"
  },
  "language_info": {
   "codemirror_mode": {
    "name": "ipython",
    "version": 3
   },
   "file_extension": ".py",
   "mimetype": "text/x-python",
   "name": "python",
   "nbconvert_exporter": "python",
   "pygments_lexer": "ipython3",
   "version": "3.13.5"
  }
 },
 "nbformat": 4,
 "nbformat_minor": 5
}
